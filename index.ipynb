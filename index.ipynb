{
 "cells": [
  {
   "cell_type": "markdown",
   "metadata": {},
   "source": [
    "# Measuring Similarity with Euclidean Distance\n",
    "## Objectives\n",
    "\n",
    "* Understand the importance of using similarity measures in data analysis. \n",
    "* Describe similarity between data objects based on the values of their contained features.\n",
    "* Measure the distance between two data objects in euclidean space using Pythagoras Theorem.\n",
    "* Understand the wider applications of using Euclidean distance based similarity. \n",
    "\n",
    "\n"
   ]
  },
  {
   "cell_type": "markdown",
   "metadata": {},
   "source": [
    "## Introduction \n",
    "\n",
    "This lesson provides an introduction to the concept of *similarity* or *distance* measures which is used heavily in data science domain for a number of applications. The lesson will give you an intuitive description for calculating Euclidean distance as a similarity measure, as well as it's implementation in python.\n",
    "\n",
    "#### Similarity is the measure to identify how alike two data objects are. Dis-similarity, on the other hand could be thought of as a measure of how two data objects differ.\n",
    "\n",
    "Similarity measures are used in a number of supervised/un-supervised machine learning tasks e.g. unsupervised clustering and classification algorithms are based on calculating the similarity between given data points. If our dataset is numeric and can be shown in an n-dimensional space, then there are various geometric metrics we can use to collectively process the data elements. \n",
    "\n",
    "> An n-dimensional space can be thought of as a multidimensional scatter plot that can be used to plot n number of dimensions of data (as compared to two/three dimensional scatter plots that we normally see).\n",
    "\n",
    "A 3D scatter plot may look like the example below showing data dimensions with respect to mileage, power and fuel consumption. We can not view data beyond 3 dimensions, however we can process such data numerically as we shall see. \n",
    "\n",
    "![](https://d2mvzyuse3lwjc.cloudfront.net/doc/en/Tutorial/images/3D_Scatter_with_Colormap/3D_Scatter_with_Colormap.png)\n",
    "\n",
    "### Similarity measures in data mining\n",
    "\n",
    "Data mining often deals with identifying relationships between data objects. Similarity measures in the data mining domain are used to represent a distance, with data dimensions as features of the objects. Small and large values of these distance measures are seen as an indication of high and low similarity respectively. Similarity is a relative measure and depends highly on the domain and application. For example, two cars can be similar because of their color, engine size or price. Hence we need to be very careful when calculating distance across features that are unrelated. Normalized Similarity is usually measured as a value between 0 and 1 (inclusive), where 1 represents a high similarity (X=Y) and 0 - no similarity at all (X$\\neq$Y).  "
   ]
  },
  {
   "cell_type": "markdown",
   "metadata": {},
   "source": [
    "Let's Look at the most popular similarity distance measure which are commonly used in machine learning systems. "
   ]
  },
  {
   "cell_type": "markdown",
   "metadata": {},
   "source": [
    "## Euclidean Distance "
   ]
  },
  {
   "cell_type": "markdown",
   "metadata": {},
   "source": [
    "When measuring the distance between data objects in the plane, we we tend to use the Euclidean distance.It is the most commonly-used of our distance measures and hence often just referred to as “distance”. When data is dense or continuous, this is the best proximity measure. The Euclidean distance between two points is the length of the path connecting them. This measure is based mainly on the Pythagorean theorem as shown in the diagram below:\n",
    "\n",
    "![](ed1.png)\n"
   ]
  },
  {
   "cell_type": "markdown",
   "metadata": {},
   "source": [
    "According to this approach, The distance between two points (x1,y1) and (x2,y2), on a two dimensional plane is treated as a hypotenuse of a right angled triangle. This is broken down into its components of base and perpendicular. The distance $d$ between these points, following Pythagoras theorem can be simply calculated as: \n",
    "\n",
    "### $$d((x_1,y_1),(x_2,y_2)) = \\sqrt{(x_2-x_1)^2 + (y_2-y_1)^2}$$\n",
    "\n",
    "A general notation for this distance `d` for `n dimensional space` between two points `p` and `q`,  can be shown as:\n",
    "\n",
    "$$d = \\sqrt{\\sum_{i=1}^{n}(q_i-p_i)^2}$$\n",
    "\n",
    "So in simplest form, this measure shows an ordinary straight-line distance between two points in Euclidean space. This is all it takes to calculate the most commonly used distance measure. How about implementing this measure using python and numpy."
   ]
  },
  {
   "cell_type": "code",
   "execution_count": 43,
   "metadata": {},
   "outputs": [
    {
     "data": {
      "text/plain": [
       "(11.180339887498949, 6.708203932499369, 4.47213595499958)"
      ]
     },
     "execution_count": 43,
     "metadata": {},
     "output_type": "execute_result"
    }
   ],
   "source": [
    "import numpy as np\n",
    "import math\n",
    "\n",
    "def distance(p,q):\n",
    "    d = math.sqrt(sum([(a - b) ** 2 for a, b in zip(p, q)]))\n",
    "    return d\n",
    "\n",
    "# Calculate Eucledian distance\n",
    "a = [1,2,3,4,5]\n",
    "b = [6,7,8,9,10]\n",
    "c = [4,5,6,7,8]\n",
    "\n",
    "distance(a,b), distance(a,c), distance (b,c)"
   ]
  },
  {
   "cell_type": "markdown",
   "metadata": {},
   "source": [
    "### Verify Results\n",
    "\n",
    "So we see with this simple example, that vectors that are alike give a high value, whereas vectors with different feature values output a low value for this distance measure. This functionality is available in python in a number of modules. Below we shall use `scipy.spatial.eucledian(x,y)` to verify our answer."
   ]
  },
  {
   "cell_type": "code",
   "execution_count": 45,
   "metadata": {},
   "outputs": [
    {
     "data": {
      "text/plain": [
       "(11.180339887498949, 6.708203932499369, 4.47213595499958)"
      ]
     },
     "execution_count": 45,
     "metadata": {},
     "output_type": "execute_result"
    }
   ],
   "source": [
    "from scipy.spatial import distance\n",
    "distance.euclidean(a, b), distance.euclidean(a, c), distance.euclidean(b, c)"
   ]
  },
  {
   "cell_type": "markdown",
   "metadata": {},
   "source": [
    "Spot on. So how you've learned this handy technique to identify whether two data points are similar or different in terms of their features. We shall use this technique to perform a basic similarity based grouping/clustering task in the following lab. \n"
   ]
  },
  {
   "cell_type": "markdown",
   "metadata": {},
   "source": [
    "## Summary\n",
    "\n",
    "In this lesson we saw how to use Euclidean Distance as a similarity measure to identify how alike data objects are. In the following lab, we shall use this measure for a simple problem and see how we can analytically identify closeness of real world data points in a euclidean space."
   ]
  },
  {
   "cell_type": "code",
   "execution_count": null,
   "metadata": {},
   "outputs": [],
   "source": []
  }
 ],
 "metadata": {
  "kernelspec": {
   "display_name": "Python 3",
   "language": "python",
   "name": "python3"
  },
  "language_info": {
   "codemirror_mode": {
    "name": "ipython",
    "version": 3
   },
   "file_extension": ".py",
   "mimetype": "text/x-python",
   "name": "python",
   "nbconvert_exporter": "python",
   "pygments_lexer": "ipython3",
   "version": "3.6.4"
  }
 },
 "nbformat": 4,
 "nbformat_minor": 2
}
